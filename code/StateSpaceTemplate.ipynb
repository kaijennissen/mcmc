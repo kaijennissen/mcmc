{
 "cells": [
  {
   "cell_type": "code",
   "execution_count": null,
   "metadata": {},
   "outputs": [],
   "source": [
    "import numpy as np\n",
    "import matplotlib.pyplot as plt\n",
    "import seaborn as sns\n",
    "import pymc4 as pm\n",
    "import tensorflow as tf\n",
    "import arviz as az"
   ]
  },
  {
   "cell_type": "markdown",
   "metadata": {},
   "source": [
    "### Linear Regression with General Covariance-Matrix"
   ]
  },
  {
   "cell_type": "code",
   "execution_count": null,
   "metadata": {},
   "outputs": [],
   "source": [
    "N = 2000\n",
    "k = 3\n",
    "beta = np.array([[0.5], [2.5], [-3.]])\n",
    "X = 10 * np.random.randn(N, k)\n",
    "y = np.dot(X, beta) + np.random.randn(N, 1)\n"
   ]
  },
  {
   "cell_type": "code",
   "execution_count": null,
   "metadata": {},
   "outputs": [],
   "source": [
    "fig, axes = plt.subplots(1,3, figsize=(16,4))\n",
    "axes[0].plot(y, X[:,0], '+')\n",
    "axes[1].plot(y, X[:,1], '+')\n",
    "axes[2].plot(y, X[:,2], '+')"
   ]
  },
  {
   "cell_type": "code",
   "execution_count": null,
   "metadata": {},
   "outputs": [],
   "source": [
    "help(pm.sample)"
   ]
  },
  {
   "cell_type": "code",
   "execution_count": null,
   "metadata": {},
   "outputs": [],
   "source": [
    "@pm.model\n",
    "def linear_model():\n",
    "    alpha = yield pm.Normal(loc=0, scale=10, name='alpha', batch_stack=1)\n",
    "    beta0 = yield pm.Normal(loc=0, scale=10, name='beta0', batch_stack=1)\n",
    "    beta1 = yield pm.Normal(loc=0, scale=10, name='beta1', batch_stack=1)\n",
    "    beta2 = yield pm.Normal(loc=0, scale=10, name='beta2', batch_stack=1)\n",
    "    sigma = yield pm.HalfNormal(scale=1, name='sigma', batch_stack=1)\n",
    "    mu = alpha + beta0 * X[:,0] + beta1 * X[:,1] + beta2 * X[:,2]\n",
    "    \n",
    "    y_obs = yield pm.Normal(loc=mu, scale=sigma, observed=y.ravel(), name='y_obs')\n",
    "    \n",
    "    return y_obs\n",
    "    \n",
    "trace = pm.sample(linear_model(), num_samples=10000, num_chains=1, burn_in=1000)"
   ]
  },
  {
   "cell_type": "code",
   "execution_count": null,
   "metadata": {},
   "outputs": [],
   "source": [
    "az.plot_trace(trace);"
   ]
  },
  {
   "cell_type": "code",
   "execution_count": null,
   "metadata": {},
   "outputs": [],
   "source": [
    "N = 200\n",
    "\n",
    "# we'll use a dynamics matrix with a decaying rotational component plus a small perturbation\n",
    "theta = 5. / 180 * np.pi\n",
    "rot_comp = np.array([[np.cos(theta), -np.sin(theta)], [np.sin(theta), np.cos(theta)]])\n",
    "true_A = 0.9 * rot_comp + 0.05 * np.random.randn(2, 2)\n",
    "true_sigma = 0.05\n",
    "true_tau = 1./true_sigma**2\n",
    "true_x0 = np.zeros(2)\n",
    "\n",
    "x = np.zeros((N, 2))\n",
    "x[0] = true_x0\n",
    "\n",
    "for t in range(1, N):\n",
    "    x[t] = np.dot(true_A, x[t-1].T).T + np.random.randn(2) * true_sigma\n",
    "\n",
    "\n",
    "plt.plot(x)"
   ]
  },
  {
   "cell_type": "code",
   "execution_count": null,
   "metadata": {},
   "outputs": [],
   "source": [
    "G = np.array([[1, 0, 1, 0, 0]])\n",
    "F = np.array([[1, 1, 0, 0, 0], [0, 1, 0, 0, 0], [0, 0, -1, -1, -1], [0, 0, 1, 0, 0], [0, 0, 0, 1, 0]])\n",
    "\n",
    "# V\n",
    "psiy = 3\n",
    "V = np.array([[1/psiy]])\n",
    "chol_V = np.linalg.cholesky(V)\n",
    "\n",
    "# W\n",
    "psi1 = 7\n",
    "psi2 = 5e5\n",
    "psi3 = 5e5\n",
    "psi4 = 1e16\n",
    "psi5 = 1e16\n",
    "W = np.eye(5)\n",
    "np.fill_diagonal(W, np.array([1/psi1, 1/psi2, 1/psi3, 0, 0]))\n",
    "\n",
    "#chol_W = np.linalg.cholesky(W)\n",
    "chol_W = np.eye(5)\n",
    "np.fill_diagonal(chol_W, np.array([1/psi1, 1/psi2, 1/psi3, 0, 0]))\n",
    "\n",
    "\n",
    "# Sample Size\n",
    "T = 150\n",
    "# inital state\n",
    "x0 = np.array([0, 0.2, 0, 0, 0])\n",
    "x0[2:5] = 3*np.sin(np.linspace(-1, 1, 4))[0:3]\n",
    "x = np.zeros((T, 5))\n",
    "x[0] = x0\n",
    "y = np.zeros((T, 1))\n",
    "\n",
    "for t in range(1, T):\n",
    "    x[t] = np.dot(F, x[t-1].T).T + np.dot(chol_W,  np.random.randn(chol_W.shape[0]))\n",
    "    y[t] = np.dot(G, x[t].T).T + np.dot(chol_V,  np.random.randn(chol_V.shape[0]))\n",
    "\n",
    "plt.plot(y)"
   ]
  },
  {
   "cell_type": "markdown",
   "metadata": {},
   "source": [
    "\\begin{align}\n",
    "    y_{t} &= G_{t}x_{t} + X_{t}\\beta_{t} + \\nu_{t} \\\\\n",
    "    x_{t} &= F_{t}x_{t-1} + Z_{t}\\gamma_{t} + \\omega_{t} \\\\\n",
    "    \\nu_{t} &\\sim \\mathcal{N}(0, V_{t}) \\\\\n",
    "    \\omega_{t} &\\sim \\mathcal{N}(0, W_{t}) \\\\\n",
    "\\end{align}"
   ]
  },
  {
   "cell_type": "code",
   "execution_count": null,
   "metadata": {},
   "outputs": [],
   "source": [
    "from pymc3 import MvNormal, Normal, Flat, Continuous\n",
    "from scipy.linalg import solve_triangular\n",
    "from scipy.linalg import block_diag\n",
    "import pdb\n",
    "class StateSpaceModel(Continuous):\n",
    "    \"\"\"\n",
    "    A state space model with Gaussian noise.\n",
    "    \n",
    "    This models only the state variables so that the form of the observation\n",
    "    noise can be specified separately.\n",
    "    \n",
    "    Parameters\n",
    "    ----------\n",
    "    G : tensor\n",
    "        tau > 0, innovation precision\n",
    "    X : tensor\n",
    "        sd > 0, innovation standard deviation (alternative to specifying tau)\n",
    "    beta : tensor\n",
    "        state update matrix\n",
    "    V : \n",
    "    \n",
    "    F : tensor\n",
    "        input matrix\n",
    "    Z : tensor\n",
    "        (time x dim), inputs to the system\n",
    "        init : distribution\n",
    "        distribution for initial value (defaults to Flat())\n",
    "    gamma :   \n",
    "    W :\n",
    "    \n",
    "    State Space Equation\n",
    "    ----------\n",
    "    y_t = X_t * beta_t + G_t * x_t + vega_t  vega_t ~ N(0, V_t)\n",
    "    eta_t = Z_t * gamma_t + F_t * eta_t-1 + omega_t  omega_t ~ N(0, W_t)\n",
    "    \"\"\"\n",
    "    def __init__(self, \n",
    "                 G=None, X=None, beta=None, V=None, \n",
    "                 F=None, Z=None, gamma=None, W=None,\n",
    "                 y = None, \n",
    "                 TT=1, init=Flat.dist(), *args, **kwargs):\n",
    "        super(StateSpaceModel, self).__init__(*args, **kwargs)\n",
    "        \n",
    "        self.G = G\n",
    "        self.X = X\n",
    "        self.beta = beta\n",
    "        self.V = V\n",
    "        \n",
    "        self.F = F\n",
    "        self.Z = Z\n",
    "        self.gamma = gamma\n",
    "        self.W = W\n",
    "        \n",
    "        self.Y = y\n",
    "        #self.mean = 0.\n",
    "        #self.x0 = x0\n",
    "        \n",
    "        self.q = F.shape[0]\n",
    "        self.T = TT\n",
    "        self.Tq = self.T*self.q\n",
    "        \n",
    "        self.Omega11inv = np.linalg.inv(V)\n",
    "        \n",
    "        # S\n",
    "        self.DDinv = np.eye(self.q)\n",
    "        self.Omega22inv = np.eye(self.q)\n",
    "        self.Sinv = block_diag(self.DDinv, np.kron(np.eye(self.T-1), self.Omega22inv))\n",
    "        \n",
    "        # H\n",
    "        H1 = np.eye(self.Tq)\n",
    "        H2 = np.vstack((np.zeros((self.q, self.Tq)), np.hstack((np.kron(np.eye(self.T-1), F), np.zeros((self.Tq-self.q,self.q))))))\n",
    "        self.bigH = H1 - H2\n",
    "        self.bigHt = self.bigH.T   \n",
    "        \n",
    "        # G\n",
    "        self.bigG = np.kron(np.eye(self.T), self.G)\n",
    "        self.bigGt = self.bigG.T\n",
    "        #pdb.set_trace()\n",
    "        self.K = self.bigHt.dot(self.Sinv).dot(self.bigH)\n",
    "\n",
    "        self.GtOmega11 = self.bigGt.dot(np.kron(np.eye(self.T), self.Omega11inv))\n",
    "        self.GtOmega11G = self.GtOmega11.dot(self.bigG)\n",
    "        self.GtOmega11Y = self.GtOmega11.dot(self.Y)\n",
    "\n",
    "        P = self.K + self.GtOmega11G;\n",
    "        self.P = (P+P.T)/2\n",
    "        self.L = np.linalg.cholesky(self.P)\n",
    "\n",
    "        self.eta_hat = solve_triangular(self.L.T, solve_triangular(self.L, self.GtOmega11Y, lower=True), lower=False)\n",
    "        \n",
    "            \n",
    "    def random(self, point=None, size=None):\n",
    "        tau, sd, A, B, u, init = draw_values([self.tau, self.sd, self.A, self.B, self.u, self.init], point=point)\n",
    "        \n",
    "        T, D = size\n",
    "        x = np.zeros(T, D)\n",
    "        x[0,:] = init\n",
    "        \n",
    "        for t in range(1, T):\n",
    "            x[t,:] = np.dot(A, x[t-1,:].T).T + np.dot(B, u[t-1,:].T).T + np.random.randn(1, D) * sd\n",
    "            \n",
    "        return x\n",
    "    \n",
    "    def logp(self, x):\n",
    "        G = self.G\n",
    "        V = self.V\n",
    "        F = self.F\n",
    "        W = self.W\n",
    "\n",
    "        eta_hat = self.eta_hat\n",
    "        P = self.P\n",
    "        L = self.L\n",
    "        x = np.zeros((self.Tq), np.float64)\n",
    "        \n",
    "        innov_like = MvNormal.dist(mu=eta_hat.reshape(self.Tq), chol=L, lower=True).logp(theano.shared(x))\n",
    "        return innov_like"
   ]
  },
  {
   "cell_type": "code",
   "execution_count": null,
   "metadata": {},
   "outputs": [],
   "source": [
    "MvNormal.dist(mu=np.zeros(750), chol=np.eye(750), lower=True).logp(theano.shared(x.reshape(750))).eval()"
   ]
  },
  {
   "cell_type": "code",
   "execution_count": null,
   "metadata": {},
   "outputs": [],
   "source": [
    "with mc.Model() as model:\n",
    "    psiy = mc.Gamma('psiy', alpha=1e-3, beta=1e-3)\n",
    "    V = np.array([[1/psiy]])\n",
    "    X = StateSpaceModel('X', F=F, G=G, V=V, W=W, y=y, TT=150, observed=x.reshape(750))\n",
    "    \n",
    "    trace = mc.sample(1000)"
   ]
  },
  {
   "cell_type": "code",
   "execution_count": null,
   "metadata": {},
   "outputs": [],
   "source": [
    "G = np.array([[1, 0, 1, 0, 0]])\n",
    "F = np.array([[1, 1, 0, 0, 0], [0, 1, 0, 0, 0], [0, 0, -1, -1, -1], [0, 0, 1, 0, 0], [0, 0, 0, 1, 0]])\n",
    "\n",
    "# V\n",
    "psiy = 3\n",
    "Omega11 = np.array([[1/psiy]])\n",
    "chol_Omega11 = np.linalg.cholesky(Omega11)\n",
    "\n",
    "# W\n",
    "psi1 = 7\n",
    "psi2 = 5e5\n",
    "psi3 = 5e5\n",
    "psi4 = 1e16\n",
    "psi5 = 1e16\n",
    "Omega22 = np.eye(5)\n",
    "np.fill_diagonal(Omega22, np.array([1/psi1, 1/psi2, 1/psi3, 0, 0]))\n",
    "\n",
    "#chol_W = np.linalg.cholesky(W)\n",
    "chol_Omega22 = np.eye(5)\n",
    "np.fill_diagonal(chol_Omega22, np.array([1/np.sqrt(psi1), 1/np.sqrt(psi2), 1/np.sqrt(psi3), 0, 0]))\n",
    "q=5\n",
    "TT=150\n",
    "TTq=TT*q\n",
    "\n",
    "with mc.Model() as model:\n",
    "\n",
    "        sd_dist = mc.HalfCauchy.dist(beta=2.5)\n",
    "        packed_chol = mc.LKJCholeskyCov('chol_cov', eta=20, n=15, sd_dist=sd_dist)\n",
    "        Omega22 = mc.expand_packed_triangular(15, packed_chol, lower=True)\n",
    "        \n",
    "        psiy = mc.InverseGamma('psiy', alpha=1e-3, beta=1e-3, shape=(1,1))\n",
    "\n",
    "        # S\n",
    "        DDinv = np.eye(q)\n",
    "        Omega22inv = mc.math.matrix_inverse(Omega22)\n",
    "        Sinv = block_diag(DDinv, np.kron(np.eye(TT-1), Omega22inv))\n",
    "        \n",
    "        # H\n",
    "        H1 = np.eye(TTq)\n",
    "        H2 = np.vstack((np.zeros((q, TTq)), np.hstack((np.kron(np.eye(TT-1), F), np.zeros((TTq-q, q))))))\n",
    "        bigH = H1 - H2\n",
    "        bigHt = bigH.T   \n",
    "        \n",
    "        # G\n",
    "        bigG = mc.math.kronecker(np.eye(TT), G)\n",
    "        bigGt = bigG.T\n",
    "        K = mc.math.dot(bigHt, mc.math.dot(Sinv, bigH))\n",
    "\n",
    "        GtOmega11 = mc.math.dot(bigGt, mc.math.kronecker(np.eye(TT), Omega11inv))\n",
    "        GtOmega11G = mc.math.dot(GtOmega11, bigG)\n",
    "        GtOmega11Y = mc.math.dot(GtOmega11, Y)\n",
    "\n",
    "        P = K + GtOmega11G;\n",
    "        P = (P+P.T)/2\n",
    "        L = np.linalg.cholesky(P)\n",
    "        \n",
    "        eta_hat = solve_triangular(L.T, solve_triangular(L, GtOmega11Y, lower=True), lower=False)\n",
    "        \n",
    "        X = mc.MvNormal('X', mu=eta_hat, tau=P, shape = TTq)\n",
    "    \n",
    "        trace = mc.sample(10)\n",
    "    \n"
   ]
  },
  {
   "cell_type": "code",
   "execution_count": null,
   "metadata": {},
   "outputs": [],
   "source": [
    "with mc.Model() as model:\n",
    "    # Note that we access the distribution for the standard\n",
    "    # deviations, and do not create a new random variable.\n",
    "    sd_dist = mc.HalfCauchy.dist(beta=2.5)\n",
    "    packed_chol = mc.LKJCholeskyCov('chol_cov', eta=2, n=10, sd_dist=sd_dist)\n",
    "    chol = mc.expand_packed_triangular(10, packed_chol, lower=True)\n",
    "\n",
    "    # Define a new MvNormal with the given covariance\n",
    "    vals = mc.MvNormal('vals', mu=np.zeros(10), chol=chol, shape=10)\n",
    "\n",
    "    # Or transform an uncorrelated normal:\n",
    "    vals_raw = mc.Normal('vals_raw', mu=0, sigma=1, shape=10)\n",
    "    vals = T.dot(chol, vals_raw)\n",
    "\n",
    "    # Or compute the covariance matrix\n",
    "    cov = T.dot(chol, chol.T)\n",
    "\n",
    "    # Extract the standard deviations\n",
    "    stds = T.sqrt(T.diag(cov))\n",
    "    trace = mc.sample(10)\n",
    "    "
   ]
  },
  {
   "cell_type": "code",
   "execution_count": null,
   "metadata": {},
   "outputs": [],
   "source": [
    "mc.traceplot(trace, compact=False)"
   ]
  },
  {
   "cell_type": "code",
   "execution_count": null,
   "metadata": {},
   "outputs": [],
   "source": [
    "G = np.array([[1, 0, 1, 0, 0]])\n",
    "F = np.array([[1, 1, 0, 0, 0], [0, 1, 0, 0, 0], [0, 0, -1, -1, -1], [0, 0, 1, 0, 0], [0, 0, 0, 1, 0]])\n",
    "\n",
    "# V\n",
    "psiy = 3\n",
    "Omega11 = np.array([[1/psiy]])\n",
    "chol_Omega11 = np.linalg.cholesky(Omega11)\n",
    "\n",
    "# W\n",
    "psi1 = 7\n",
    "psi2 = 5e5\n",
    "psi3 = 5e5\n",
    "psi4 = 1e16\n",
    "psi5 = 1e16\n",
    "Omega22 = np.eye(5)\n",
    "np.fill_diagonal(Omega22, np.array([1/psi1, 1/psi2, 1/psi3, 0, 0]))\n",
    "\n",
    "#chol_W = np.linalg.cholesky(W)\n",
    "chol_Omega22 = np.eye(5)\n",
    "np.fill_diagonal(chol_Omega22, np.array([1/np.sqrt(psi1), 1/np.sqrt(psi2), 1/np.sqrt(psi3), 0, 0]))\n",
    "q=5\n",
    "TT=150\n",
    "Tq=750\n",
    "\n",
    "with mc.Model() as model:\n",
    "\n",
    "        sd_dist = mc.HalfCauchy.dist(beta=2.5)\n",
    "        packed_chol = mc.LKJCholeskyCov('chol_cov', eta=20, n=15, sd_dist=sd_dist)\n",
    "        Omega22 = mc.expand_packed_triangular(15, packed_chol, lower=True)\n",
    "               \n",
    "        X = mc.MvNormal('X', mu=np.zeros(5), tau=Omega22)\n",
    "    \n",
    "        trace = mc.sample(10)\n",
    "    \n",
    "\n"
   ]
  },
  {
   "cell_type": "code",
   "execution_count": null,
   "metadata": {},
   "outputs": [],
   "source": [
    "np.fill_diagonal(cholOmega22, np.array([1/np.sqrt(psi1), 1/np.sqrt(psi2), 1/np.sqrt(psi3), 0, 0]))"
   ]
  },
  {
   "cell_type": "code",
   "execution_count": null,
   "metadata": {},
   "outputs": [],
   "source": [
    "cov = np.array([[1., 0.5], [0.5, 2]])\n",
    "mu = np.array([[1, 9, -1, -3]])\n",
    "\n",
    "C = np.kron(np.eye(2), cov)\n",
    "\n",
    "with mc.Model() as model:\n",
    "    A = mc.MvNormal('A', mu=mu, cov=C, shape=(1,4))\n",
    "    \n",
    "    trace = mc.sample(1000)"
   ]
  },
  {
   "cell_type": "code",
   "execution_count": null,
   "metadata": {},
   "outputs": [],
   "source": [
    "trace['A'].shape"
   ]
  },
  {
   "cell_type": "code",
   "execution_count": null,
   "metadata": {},
   "outputs": [],
   "source": [
    "mc.traceplot(trace, compact=False)"
   ]
  },
  {
   "cell_type": "code",
   "execution_count": null,
   "metadata": {},
   "outputs": [],
   "source": [
    "trace['A'][:,0,:]"
   ]
  },
  {
   "cell_type": "code",
   "execution_count": null,
   "metadata": {},
   "outputs": [],
   "source": [
    "plt.scatter(trace['A'][:,0,0], trace['A'][:,0,1])\n",
    "plt.show()"
   ]
  },
  {
   "cell_type": "code",
   "execution_count": null,
   "metadata": {},
   "outputs": [],
   "source": []
  },
  {
   "cell_type": "code",
   "execution_count": null,
   "metadata": {},
   "outputs": [],
   "source": [
    "true_sig_o = 0.2\n",
    "true_tau_o = 1./true_sig_o**2\n",
    "true_C = np.random.randn(1, 2)\n",
    "y = np.random.randn(x.shape[0], true_C.shape[0]) * true_sig_o + np.dot(true_C, x.T).T\n",
    "\n",
    "plt.plot(y)\n",
    "\n"
   ]
  },
  {
   "cell_type": "code",
   "execution_count": null,
   "metadata": {},
   "outputs": [],
   "source": [
    "with mc.Model() as model:\n",
    "    A = mc.Normal('A', mu=np.eye(2), tau=1e-5, shape=(2,2))\n",
    "    Tau = mc.Gamma('tau', mu=100, sd=100)\n",
    "    \n",
    "    X = StateSpaceModel('x', A=A, B=T.zeros((1,1)), u=T.zeros((x.shape[0],1)), tau=Tau, shape=(y.shape[0], 2))\n",
    "    \n",
    "    C = mc.Normal('C', mu=np.zeros((1,2)), tau=1e-5, shape=(1,2))\n",
    "    Tau_o = mc.Gamma('tau_o', mu=100, sd=100)\n",
    "    \n",
    "    Y = mc.Normal('y', mu=T.dot(C, X.T).T, tau=Tau_o, observed=y)\n",
    "    \n",
    "    trace = mc.sample(10000)\n",
    "    #inference = mc.ADVI()\n",
    "    #approx = mc.fit(n=100000, method=inference)"
   ]
  },
  {
   "cell_type": "code",
   "execution_count": null,
   "metadata": {},
   "outputs": [],
   "source": [
    "mc.traceplot(trace, compact=False)"
   ]
  },
  {
   "cell_type": "code",
   "execution_count": null,
   "metadata": {},
   "outputs": [],
   "source": [
    "mc.plot_posterior(approx.sample(10000), color='LightSeaGreen');"
   ]
  },
  {
   "cell_type": "code",
   "execution_count": null,
   "metadata": {},
   "outputs": [],
   "source": []
  }
 ],
 "metadata": {
  "kernelspec": {
   "display_name": "Python 3",
   "language": "python",
   "name": "python3"
  },
  "language_info": {
   "codemirror_mode": {
    "name": "ipython",
    "version": 3
   },
   "file_extension": ".py",
   "mimetype": "text/x-python",
   "name": "python",
   "nbconvert_exporter": "python",
   "pygments_lexer": "ipython3",
   "version": "3.6.9"
  }
 },
 "nbformat": 4,
 "nbformat_minor": 4
}
